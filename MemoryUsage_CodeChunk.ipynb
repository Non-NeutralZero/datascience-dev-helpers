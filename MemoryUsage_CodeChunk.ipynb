{
  "nbformat": 4,
  "nbformat_minor": 0,
  "metadata": {
    "colab": {
      "name": "MemoryUsage CodeChunk.ipynb",
      "provenance": [],
      "collapsed_sections": []
    },
    "kernelspec": {
      "name": "python3",
      "display_name": "Python 3"
    }
  },
  "cells": [
    {
      "cell_type": "code",
      "metadata": {
        "id": "qP8KDVW7xgMu",
        "colab_type": "code",
        "colab": {}
      },
      "source": [
        "def memory():\n",
        "    with open('/proc/meminfo', 'r') as mem:\n",
        "        ret = {}\n",
        "        tmp = 0\n",
        "        for i in mem:\n",
        "            sline = i.split()\n",
        "            if str(sline[0]) == 'MemTotal:':\n",
        "                ret['total'] = int(sline[1])\n",
        "            elif str(sline[0]) in ('MemFree:', 'Buffers:', 'Cached:'):\n",
        "                tmp += int(sline[1])\n",
        "        ret['free'] = tmp\n",
        "        ret['used'] = int(ret['total']) - int(ret['free'])\n",
        "    return ret\n",
        "\n"
      ],
      "execution_count": 0,
      "outputs": []
    }
  ]
}