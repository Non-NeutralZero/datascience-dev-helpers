{
  "nbformat": 4,
  "nbformat_minor": 0,
  "metadata": {
    "colab": {
      "name": "SVM.ipynb",
      "provenance": [],
      "collapsed_sections": [],
      "authorship_tag": "ABX9TyMoytjlYfKvPnhA44Xgx8RM",
      "include_colab_link": true
    },
    "kernelspec": {
      "name": "python3",
      "display_name": "Python 3"
    }
  },
  "cells": [
    {
      "cell_type": "markdown",
      "metadata": {
        "id": "view-in-github",
        "colab_type": "text"
      },
      "source": [
        "<a href=\"https://colab.research.google.com/github/Non-NeutralZero/datascience-dev-helpers/blob/master/SVM.ipynb\" target=\"_parent\"><img src=\"https://colab.research.google.com/assets/colab-badge.svg\" alt=\"Open In Colab\"/></a>"
      ]
    },
    {
      "cell_type": "markdown",
      "metadata": {
        "id": "Hv7HnZC-HNMv",
        "colab_type": "text"
      },
      "source": [
        "# SVC"
      ]
    },
    {
      "cell_type": "code",
      "metadata": {
        "id": "LOm66TdnHS1E",
        "colab_type": "code",
        "colab": {},
        "cellView": "form"
      },
      "source": [
        "#@title Imports [run the cell]\n",
        "import numpy as np\n",
        "import matplotlib.pyplot as plt\n",
        "from matplotlib import style\n",
        "style.use(\"ggplot\")\n",
        "from sklearn import svm"
      ],
      "execution_count": 0,
      "outputs": []
    },
    {
      "cell_type": "markdown",
      "metadata": {
        "id": "eUuRr0f9DT_Y",
        "colab_type": "text"
      },
      "source": [
        "The objective of a Support Vector Classifier (SVC) is to divide data using a hyperplane\n"
      ]
    },
    {
      "cell_type": "code",
      "metadata": {
        "id": "1gOXRVpBDFbC",
        "colab_type": "code",
        "outputId": "713fb15f-1ac8-4a57-e2f7-9c2e504d5a80",
        "colab": {
          "base_uri": "https://localhost:8080/",
          "height": 265
        }
      },
      "source": [
        "# let's try to divide some observations based on some two features\n",
        "x = [1, 5, 30, 10, 35, 40]\n",
        "y = [20, 25, 37, 15, 40, 52]\n",
        "## First, let's see how the observations look in a 2D viz\n",
        "plt.scatter(x,y)\n",
        "plt.show()"
      ],
      "execution_count": 2,
      "outputs": [
        {
          "output_type": "display_data",
          "data": {
            "image/png": "[encoded data removed]",
            "text/plain": [
              "<Figure size 432x288 with 1 Axes>"
            ]
          },
          "metadata": {
            "tags": []
          }
        }
      ]
    },
    {
      "cell_type": "code",
      "metadata": {
        "id": "1j-SA9BMD7qD",
        "colab_type": "code",
        "outputId": "17b967ca-a412-4275-ebab-ae42f0cf238c",
        "colab": {
          "base_uri": "https://localhost:8080/",
          "height": 85
        }
      },
      "source": [
        "X = np.array([[1,20], \n",
        "             [5,25],\n",
        "             [30,37],\n",
        "             [10,15],\n",
        "             [35,40],\n",
        "             [40,52]])\n",
        "y = np.array([0,0,1,0,1,1])\n",
        "\n",
        "## C is decided using cross validation, as this is a vanilla classifier we'll go with 1\n",
        "clf = svm.SVC(kernel='linear', C = 1.0)\n",
        "## fitting a linear classifier\n",
        "clf.fit(X,y)"
      ],
      "execution_count": 3,
      "outputs": [
        {
          "output_type": "execute_result",
          "data": {
            "text/plain": [
              "SVC(C=1.0, break_ties=False, cache_size=200, class_weight=None, coef0=0.0,\n",
              "    decision_function_shape='ovr', degree=3, gamma='scale', kernel='linear',\n",
              "    max_iter=-1, probability=False, random_state=None, shrinking=True,\n",
              "    tol=0.001, verbose=False)"
            ]
          },
          "metadata": {
            "tags": []
          },
          "execution_count": 3
        }
      ]
    },
    {
      "cell_type": "code",
      "metadata": {
        "id": "2dEoCfyLGLjK",
        "colab_type": "code",
        "colab": {
          "base_uri": "https://localhost:8080/",
          "height": 282
        },
        "outputId": "08d98f0b-8f1f-45e4-deff-572a62021985"
      },
      "source": [
        "w = clf.coef_[0]\n",
        "print(w)\n",
        "a = -w[0] / w[1]\n",
        "xx = np.linspace(0,40)\n",
        "yy = a * xx - clf.intercept_[0] / w[1]\n",
        "\n",
        "h0 = plt.plot(xx, yy, 'k-', label=\"non weighted div\")\n",
        "plt.scatter(X[:, 0], X[:, 1], c = y)\n",
        "plt.legend()\n",
        "plt.show()"
      ],
      "execution_count": 6,
      "outputs": [
        {
          "output_type": "stream",
          "text": [
            "[0.06447349 0.03229683]\n"
          ],
          "name": "stdout"
        },
        {
          "output_type": "display_data",
          "data": {
            "image/png": "[encoded data removed]",
            "text/plain": [
              "<Figure size 432x288 with 1 Axes>"
            ]
          },
          "metadata": {
            "tags": []
          }
        }
      ]
    },
    {
      "cell_type": "markdown",
      "metadata": {
        "id": "KOibVrJSq9cy",
        "colab_type": "text"
      },
      "source": [
        "# Kernel Selection"
      ]
    },
    {
      "cell_type": "code",
      "metadata": {
        "id": "1z5ac0_PtgEF",
        "colab_type": "code",
        "colab": {},
        "cellView": "form"
      },
      "source": [
        "#@title Section Imports\n",
        "from sklearn.datasets import load_breast_cancer\n",
        "import pandas as pd\n",
        "from sklearn import metrics"
      ],
      "execution_count": 0,
      "outputs": []
    },
    {
      "cell_type": "code",
      "metadata": {
        "id": "_6VV27gSrV4F",
        "colab_type": "code",
        "colab": {}
      },
      "source": [
        "data = load_breast_cancer()\n",
        "X= pd.DataFrame(data.data, columns = data.feature_names)\n",
        "y= pd.Series(data.target)"
      ],
      "execution_count": 0,
      "outputs": []
    },
    {
      "cell_type": "code",
      "metadata": {
        "id": "KAmnFCkKr4gT",
        "colab_type": "code",
        "colab": {
          "base_uri": "https://localhost:8080/",
          "height": 224
        },
        "outputId": "538752f9-e033-42c3-efec-f5584a9bffd3"
      },
      "source": [
        "C = 1.0  # SVM regularization parameter\n",
        "models = (svm.SVC(kernel='linear', C=C),\n",
        "          svm.LinearSVC(C=C, max_iter=10000),\n",
        "          svm.SVC(kernel='rbf', gamma=0.7, C=C),\n",
        "          svm.SVC(kernel='poly', degree=3, gamma='auto', C=C, coef0=1))\n",
        "\n",
        "models = (clf.fit(X, y) for clf in models)\n",
        "\n",
        "titles = ('SVC with linear kernel',\n",
        "          'LinearSVC (linear kernel)',\n",
        "          'SVC with RBF kernel',\n",
        "          'SVC with polynomial (degree 3) kernel')\n",
        "\n",
        "for title, clf in zip(titles, models):\n",
        "    print(\"Accurary score for {0} is \\n {1} on train \\n\".format(title, \\\n",
        "                                                metrics.accuracy_score(y, clf.predict(X)) \n",
        "                                                 ))"
      ],
      "execution_count": 0,
      "outputs": [
        {
          "output_type": "stream",
          "text": [
            "Accurary score for SVC with linear kernel is \n",
            " 0.9666080843585237 on train \n",
            "\n"
          ],
          "name": "stdout"
        },
        {
          "output_type": "stream",
          "text": [
            "/usr/local/lib/python3.6/dist-packages/sklearn/svm/_base.py:947: ConvergenceWarning: Liblinear failed to converge, increase the number of iterations.\n",
            "  \"the number of iterations.\", ConvergenceWarning)\n"
          ],
          "name": "stderr"
        },
        {
          "output_type": "stream",
          "text": [
            "Accurary score for LinearSVC (linear kernel) is \n",
            " 0.8611599297012302 on train \n",
            "\n",
            "Accurary score for SVC with RBF kernel is \n",
            " 1.0 on train \n",
            "\n"
          ],
          "name": "stdout"
        }
      ]
    }
  ]
}